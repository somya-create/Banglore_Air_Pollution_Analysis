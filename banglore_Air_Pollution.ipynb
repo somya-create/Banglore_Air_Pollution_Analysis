{
 "cells": [
  {
   "cell_type": "code",
   "execution_count": 1,
   "metadata": {},
   "outputs": [],
   "source": [
    "import pandas as pd\n"
   ]
  },
  {
   "cell_type": "code",
   "execution_count": 9,
   "metadata": {},
   "outputs": [
    {
     "data": {
      "text/html": [
       "<div>\n",
       "<style scoped>\n",
       "    .dataframe tbody tr th:only-of-type {\n",
       "        vertical-align: middle;\n",
       "    }\n",
       "\n",
       "    .dataframe tbody tr th {\n",
       "        vertical-align: top;\n",
       "    }\n",
       "\n",
       "    .dataframe thead th {\n",
       "        text-align: right;\n",
       "    }\n",
       "</style>\n",
       "<table border=\"1\" class=\"dataframe\">\n",
       "  <thead>\n",
       "    <tr style=\"text-align: right;\">\n",
       "      <th></th>\n",
       "      <th>Unnamed: 0</th>\n",
       "      <th>location</th>\n",
       "      <th>city</th>\n",
       "      <th>country</th>\n",
       "      <th>utc</th>\n",
       "      <th>local</th>\n",
       "      <th>parameter</th>\n",
       "      <th>value</th>\n",
       "      <th>unit</th>\n",
       "      <th>latitude</th>\n",
       "      <th>longitude</th>\n",
       "      <th>attribution</th>\n",
       "    </tr>\n",
       "  </thead>\n",
       "  <tbody>\n",
       "    <tr>\n",
       "      <td>0</td>\n",
       "      <td>0</td>\n",
       "      <td>Silk Board, Bengaluru - KSPCB</td>\n",
       "      <td>Bengaluru</td>\n",
       "      <td>IN</td>\n",
       "      <td>2020-06-19T22:15:00Z</td>\n",
       "      <td>2020-06-20T03:45:00+05:30</td>\n",
       "      <td>co</td>\n",
       "      <td>170</td>\n",
       "      <td>µg/m³</td>\n",
       "      <td>12.917348</td>\n",
       "      <td>77.622813</td>\n",
       "      <td>[{\"url\":\"https://app.cpcbccr.com/ccr/#/caaqm-d...</td>\n",
       "    </tr>\n",
       "    <tr>\n",
       "      <td>1</td>\n",
       "      <td>1</td>\n",
       "      <td>Silk Board, Bengaluru - KSPCB</td>\n",
       "      <td>Bengaluru</td>\n",
       "      <td>IN</td>\n",
       "      <td>2020-06-19T21:00:00Z</td>\n",
       "      <td>2020-06-20T02:30:00+05:30</td>\n",
       "      <td>co</td>\n",
       "      <td>150</td>\n",
       "      <td>µg/m³</td>\n",
       "      <td>12.917348</td>\n",
       "      <td>77.622813</td>\n",
       "      <td>[{\"url\":\"https://app.cpcbccr.com/ccr/#/caaqm-d...</td>\n",
       "    </tr>\n",
       "    <tr>\n",
       "      <td>2</td>\n",
       "      <td>2</td>\n",
       "      <td>Silk Board, Bengaluru - KSPCB</td>\n",
       "      <td>Bengaluru</td>\n",
       "      <td>IN</td>\n",
       "      <td>2020-06-19T19:30:00Z</td>\n",
       "      <td>2020-06-20T01:00:00+05:30</td>\n",
       "      <td>co</td>\n",
       "      <td>100</td>\n",
       "      <td>µg/m³</td>\n",
       "      <td>12.917348</td>\n",
       "      <td>77.622813</td>\n",
       "      <td>[{\"url\":\"https://app.cpcbccr.com/ccr/#/caaqm-d...</td>\n",
       "    </tr>\n",
       "    <tr>\n",
       "      <td>3</td>\n",
       "      <td>3</td>\n",
       "      <td>Silk Board, Bengaluru - KSPCB</td>\n",
       "      <td>Bengaluru</td>\n",
       "      <td>IN</td>\n",
       "      <td>2020-06-19T17:30:00Z</td>\n",
       "      <td>2020-06-19T23:00:00+05:30</td>\n",
       "      <td>co</td>\n",
       "      <td>540</td>\n",
       "      <td>µg/m³</td>\n",
       "      <td>12.917348</td>\n",
       "      <td>77.622813</td>\n",
       "      <td>[{\"url\":\"https://app.cpcbccr.com/ccr/#/caaqm-d...</td>\n",
       "    </tr>\n",
       "    <tr>\n",
       "      <td>4</td>\n",
       "      <td>4</td>\n",
       "      <td>Silk Board, Bengaluru - KSPCB</td>\n",
       "      <td>Bengaluru</td>\n",
       "      <td>IN</td>\n",
       "      <td>2020-06-19T16:45:00Z</td>\n",
       "      <td>2020-06-19T22:15:00+05:30</td>\n",
       "      <td>co</td>\n",
       "      <td>530</td>\n",
       "      <td>µg/m³</td>\n",
       "      <td>12.917348</td>\n",
       "      <td>77.622813</td>\n",
       "      <td>[{\"url\":\"https://app.cpcbccr.com/ccr/#/caaqm-d...</td>\n",
       "    </tr>\n",
       "    <tr>\n",
       "      <td>...</td>\n",
       "      <td>...</td>\n",
       "      <td>...</td>\n",
       "      <td>...</td>\n",
       "      <td>...</td>\n",
       "      <td>...</td>\n",
       "      <td>...</td>\n",
       "      <td>...</td>\n",
       "      <td>...</td>\n",
       "      <td>...</td>\n",
       "      <td>...</td>\n",
       "      <td>...</td>\n",
       "      <td>...</td>\n",
       "    </tr>\n",
       "    <tr>\n",
       "      <td>3025</td>\n",
       "      <td>3025</td>\n",
       "      <td>Silk Board, Bengaluru - KSPCB</td>\n",
       "      <td>Bengaluru</td>\n",
       "      <td>IN</td>\n",
       "      <td>2020-02-20T02:15:00Z</td>\n",
       "      <td>2020-02-20T07:45:00+05:30</td>\n",
       "      <td>co</td>\n",
       "      <td>1080</td>\n",
       "      <td>µg/m³</td>\n",
       "      <td>12.917348</td>\n",
       "      <td>77.622813</td>\n",
       "      <td>[{\"url\":\"https://app.cpcbccr.com/ccr/#/caaqm-d...</td>\n",
       "    </tr>\n",
       "    <tr>\n",
       "      <td>3026</td>\n",
       "      <td>3026</td>\n",
       "      <td>Silk Board, Bengaluru - KSPCB</td>\n",
       "      <td>Bengaluru</td>\n",
       "      <td>IN</td>\n",
       "      <td>2020-02-20T02:00:00Z</td>\n",
       "      <td>2020-02-20T07:30:00+05:30</td>\n",
       "      <td>co</td>\n",
       "      <td>1080</td>\n",
       "      <td>µg/m³</td>\n",
       "      <td>12.917348</td>\n",
       "      <td>77.622813</td>\n",
       "      <td>[{\"url\":\"https://app.cpcbccr.com/ccr/#/caaqm-d...</td>\n",
       "    </tr>\n",
       "    <tr>\n",
       "      <td>3027</td>\n",
       "      <td>3027</td>\n",
       "      <td>Silk Board, Bengaluru - KSPCB</td>\n",
       "      <td>Bengaluru</td>\n",
       "      <td>IN</td>\n",
       "      <td>2020-02-20T01:45:00Z</td>\n",
       "      <td>2020-02-20T07:15:00+05:30</td>\n",
       "      <td>co</td>\n",
       "      <td>1050</td>\n",
       "      <td>µg/m³</td>\n",
       "      <td>12.917348</td>\n",
       "      <td>77.622813</td>\n",
       "      <td>[{\"url\":\"https://app.cpcbccr.com/ccr/#/caaqm-d...</td>\n",
       "    </tr>\n",
       "    <tr>\n",
       "      <td>3028</td>\n",
       "      <td>3028</td>\n",
       "      <td>Silk Board, Bengaluru - KSPCB</td>\n",
       "      <td>Bengaluru</td>\n",
       "      <td>IN</td>\n",
       "      <td>2020-02-20T00:30:00Z</td>\n",
       "      <td>2020-02-20T06:00:00+05:30</td>\n",
       "      <td>co</td>\n",
       "      <td>1020</td>\n",
       "      <td>µg/m³</td>\n",
       "      <td>12.917348</td>\n",
       "      <td>77.622813</td>\n",
       "      <td>[{\"url\":\"https://app.cpcbccr.com/ccr/#/caaqm-d...</td>\n",
       "    </tr>\n",
       "    <tr>\n",
       "      <td>3029</td>\n",
       "      <td>3029</td>\n",
       "      <td>Silk Board, Bengaluru - KSPCB</td>\n",
       "      <td>Bengaluru</td>\n",
       "      <td>IN</td>\n",
       "      <td>2020-02-20T00:00:00Z</td>\n",
       "      <td>2020-02-20T05:30:00+05:30</td>\n",
       "      <td>co</td>\n",
       "      <td>980</td>\n",
       "      <td>µg/m³</td>\n",
       "      <td>12.917348</td>\n",
       "      <td>77.622813</td>\n",
       "      <td>[{\"url\":\"https://app.cpcbccr.com/ccr/#/caaqm-d...</td>\n",
       "    </tr>\n",
       "  </tbody>\n",
       "</table>\n",
       "<p>3030 rows × 12 columns</p>\n",
       "</div>"
      ],
      "text/plain": [
       "      Unnamed: 0                       location       city country  \\\n",
       "0              0  Silk Board, Bengaluru - KSPCB  Bengaluru      IN   \n",
       "1              1  Silk Board, Bengaluru - KSPCB  Bengaluru      IN   \n",
       "2              2  Silk Board, Bengaluru - KSPCB  Bengaluru      IN   \n",
       "3              3  Silk Board, Bengaluru - KSPCB  Bengaluru      IN   \n",
       "4              4  Silk Board, Bengaluru - KSPCB  Bengaluru      IN   \n",
       "...          ...                            ...        ...     ...   \n",
       "3025        3025  Silk Board, Bengaluru - KSPCB  Bengaluru      IN   \n",
       "3026        3026  Silk Board, Bengaluru - KSPCB  Bengaluru      IN   \n",
       "3027        3027  Silk Board, Bengaluru - KSPCB  Bengaluru      IN   \n",
       "3028        3028  Silk Board, Bengaluru - KSPCB  Bengaluru      IN   \n",
       "3029        3029  Silk Board, Bengaluru - KSPCB  Bengaluru      IN   \n",
       "\n",
       "                       utc                      local parameter  value   unit  \\\n",
       "0     2020-06-19T22:15:00Z  2020-06-20T03:45:00+05:30        co    170  µg/m³   \n",
       "1     2020-06-19T21:00:00Z  2020-06-20T02:30:00+05:30        co    150  µg/m³   \n",
       "2     2020-06-19T19:30:00Z  2020-06-20T01:00:00+05:30        co    100  µg/m³   \n",
       "3     2020-06-19T17:30:00Z  2020-06-19T23:00:00+05:30        co    540  µg/m³   \n",
       "4     2020-06-19T16:45:00Z  2020-06-19T22:15:00+05:30        co    530  µg/m³   \n",
       "...                    ...                        ...       ...    ...    ...   \n",
       "3025  2020-02-20T02:15:00Z  2020-02-20T07:45:00+05:30        co   1080  µg/m³   \n",
       "3026  2020-02-20T02:00:00Z  2020-02-20T07:30:00+05:30        co   1080  µg/m³   \n",
       "3027  2020-02-20T01:45:00Z  2020-02-20T07:15:00+05:30        co   1050  µg/m³   \n",
       "3028  2020-02-20T00:30:00Z  2020-02-20T06:00:00+05:30        co   1020  µg/m³   \n",
       "3029  2020-02-20T00:00:00Z  2020-02-20T05:30:00+05:30        co    980  µg/m³   \n",
       "\n",
       "       latitude  longitude                                        attribution  \n",
       "0     12.917348  77.622813  [{\"url\":\"https://app.cpcbccr.com/ccr/#/caaqm-d...  \n",
       "1     12.917348  77.622813  [{\"url\":\"https://app.cpcbccr.com/ccr/#/caaqm-d...  \n",
       "2     12.917348  77.622813  [{\"url\":\"https://app.cpcbccr.com/ccr/#/caaqm-d...  \n",
       "3     12.917348  77.622813  [{\"url\":\"https://app.cpcbccr.com/ccr/#/caaqm-d...  \n",
       "4     12.917348  77.622813  [{\"url\":\"https://app.cpcbccr.com/ccr/#/caaqm-d...  \n",
       "...         ...        ...                                                ...  \n",
       "3025  12.917348  77.622813  [{\"url\":\"https://app.cpcbccr.com/ccr/#/caaqm-d...  \n",
       "3026  12.917348  77.622813  [{\"url\":\"https://app.cpcbccr.com/ccr/#/caaqm-d...  \n",
       "3027  12.917348  77.622813  [{\"url\":\"https://app.cpcbccr.com/ccr/#/caaqm-d...  \n",
       "3028  12.917348  77.622813  [{\"url\":\"https://app.cpcbccr.com/ccr/#/caaqm-d...  \n",
       "3029  12.917348  77.622813  [{\"url\":\"https://app.cpcbccr.com/ccr/#/caaqm-d...  \n",
       "\n",
       "[3030 rows x 12 columns]"
      ]
     },
     "execution_count": 9,
     "metadata": {},
     "output_type": "execute_result"
    }
   ],
   "source": [
    "co2=pd.read_csv(\"co_blr_aq_lockdown_effect_CSB.csv\")\n",
    "no2=pd.read_csv(\"no2_blr_aq_lockdown_effect_CSB.csv\")\n",
    "o3=pd.read_csv(\"o3_blr_aq_lockdown_effect_CSB.csv\")\n",
    "pm10=pd.read_csv(\"pm10_blr_aq_lockdown_effect_CSB.csv\")\n",
    "pm25=pd.read_csv(\"pm25_blr_aq_lockdown_effect_CSB.csv\")\n",
    "so2=pd.read_csv(\"so2_blr_aq_lockdown_effect_CSB.csv\")\n",
    "co2"
   ]
  },
  {
   "cell_type": "code",
   "execution_count": 3,
   "metadata": {},
   "outputs": [
    {
     "data": {
      "text/plain": [
       "(3030, 12)"
      ]
     },
     "execution_count": 3,
     "metadata": {},
     "output_type": "execute_result"
    }
   ],
   "source": [
    "co2.shape"
   ]
  },
  {
   "cell_type": "code",
   "execution_count": 17,
   "metadata": {},
   "outputs": [
    {
     "data": {
      "text/plain": [
       "77.622813    3030\n",
       "Name: longitude, dtype: int64"
      ]
     },
     "execution_count": 17,
     "metadata": {},
     "output_type": "execute_result"
    }
   ],
   "source": [
    "co2.longitude.value_counts()"
   ]
  },
  {
   "cell_type": "code",
   "execution_count": 18,
   "metadata": {},
   "outputs": [
    {
     "name": "stdout",
     "output_type": "stream",
     "text": [
      "77.622813    3030\n",
      "Name: longitude, dtype: int64\n",
      "12.917348    3030\n",
      "Name: latitude, dtype: int64\n"
     ]
    }
   ],
   "source": [
    "no2.shape\n",
    "print(co2.longitude.value_counts())\n",
    "print(co2.latitude.value_counts())"
   ]
  },
  {
   "cell_type": "code",
   "execution_count": 6,
   "metadata": {},
   "outputs": [
    {
     "data": {
      "text/plain": [
       "(2771, 12)"
      ]
     },
     "execution_count": 6,
     "metadata": {},
     "output_type": "execute_result"
    }
   ],
   "source": [
    "so2.shape"
   ]
  },
  {
   "cell_type": "code",
   "execution_count": 8,
   "metadata": {},
   "outputs": [
    {
     "data": {
      "text/plain": [
       "(3681, 13)"
      ]
     },
     "execution_count": 8,
     "metadata": {},
     "output_type": "execute_result"
    }
   ],
   "source": [
    "o3.shape"
   ]
  },
  {
   "cell_type": "code",
   "execution_count": 11,
   "metadata": {},
   "outputs": [
    {
     "data": {
      "text/plain": [
       "(3779, 12)"
      ]
     },
     "execution_count": 11,
     "metadata": {},
     "output_type": "execute_result"
    }
   ],
   "source": [
    "pm10.shape"
   ]
  },
  {
   "cell_type": "code",
   "execution_count": 12,
   "metadata": {},
   "outputs": [
    {
     "data": {
      "text/plain": [
       "(3760, 12)"
      ]
     },
     "execution_count": 12,
     "metadata": {},
     "output_type": "execute_result"
    }
   ],
   "source": [
    "pm25.shape"
   ]
  },
  {
   "cell_type": "code",
   "execution_count": null,
   "metadata": {},
   "outputs": [],
   "source": []
  }
 ],
 "metadata": {
  "kernelspec": {
   "display_name": "Python 3",
   "language": "python",
   "name": "python3"
  },
  "language_info": {
   "codemirror_mode": {
    "name": "ipython",
    "version": 3
   },
   "file_extension": ".py",
   "mimetype": "text/x-python",
   "name": "python",
   "nbconvert_exporter": "python",
   "pygments_lexer": "ipython3",
   "version": "3.7.4"
  }
 },
 "nbformat": 4,
 "nbformat_minor": 2
}
